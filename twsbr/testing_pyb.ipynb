{
 "cells": [
  {
   "cell_type": "code",
   "execution_count": 1,
   "metadata": {},
   "outputs": [],
   "source": [
    "import pybullet as p\n",
    "import pybullet_data\n",
    "import time\n"
   ]
  },
  {
   "cell_type": "code",
   "execution_count": 2,
   "metadata": {},
   "outputs": [],
   "source": [
    "# Start the physics engine\n",
    "p.connect(p.GUI)\n",
    "p.setAdditionalSearchPath(pybullet_data.getDataPath())  # Set path for pybullet data\n",
    "p.setGravity(0, 0, -9.8)\n",
    "plane_id = p.loadURDF(\"plane.urdf\")  # Menambahkan tanah"
   ]
  },
  {
   "cell_type": "code",
   "execution_count": 3,
   "metadata": {},
   "outputs": [
    {
     "name": "stdout",
     "output_type": "stream",
     "text": [
      "Number of joints in the robot: 4\n"
     ]
    }
   ],
   "source": [
    "# Load your URDF file\n",
    "robot_id= p.loadURDF(\"twsbr_env/envs/urdf/twsbr_v1.urdf\")\n",
    "# Get the number of joints\n",
    "num_joints = p.getNumJoints(robot_id)\n",
    "print(f\"Number of joints in the robot: {num_joints}\")"
   ]
  },
  {
   "cell_type": "code",
   "execution_count": 4,
   "metadata": {},
   "outputs": [
    {
     "name": "stdout",
     "output_type": "stream",
     "text": [
      "Joint 0: b'left_wheel_joint'\n",
      "Joint 1: b'right_wheel_joint'\n",
      "Joint 2: b'line_sensor_joint'\n",
      "Joint 3: b'line_sensor_target_joint'\n"
     ]
    }
   ],
   "source": [
    "# Print joint info to find the correct indices\n",
    "for i in range(num_joints):\n",
    "    joint_info = p.getJointInfo(robot_id, i)\n",
    "    print(f\"Joint {i}: {joint_info[1]}\")"
   ]
  },
  {
   "cell_type": "code",
   "execution_count": 5,
   "metadata": {},
   "outputs": [],
   "source": [
    "# After determining the correct joint indices from the printed info\n",
    "left_wheel_joint = 0  # Set based on the correct index for the left wheel\n",
    "right_wheel_joint = 1  # Set based on the correct index for the right wheel"
   ]
  },
  {
   "cell_type": "code",
   "execution_count": 6,
   "metadata": {},
   "outputs": [],
   "source": [
    "pos, orn = p.getBasePositionAndOrientation(robot_id)\n",
    "linear_velocity, angular_velocity = p.getBaseVelocity(robot_id)"
   ]
  },
  {
   "cell_type": "code",
   "execution_count": 8,
   "metadata": {},
   "outputs": [],
   "source": [
    "import numpy as np\n",
    "roll, pitch, yaw = p.getEulerFromQuaternion(orn)\n",
    "roll_deg = np.degrees(roll)\n",
    "pitch_deg = np.degrees(pitch)\n",
    "yaw_deg = np.degrees(yaw)\n",
    "\n",
    "omega_x = angular_velocity[0]\n",
    "omega_y = angular_velocity[1]\n",
    "omega_z = angular_velocity[2]\n",
    "\n",
    "x = pos[0]\n",
    "y = pos[1]\n",
    "z = pos[2]\n",
    "\n",
    "x_dot = linear_velocity[0]\n",
    "y_dot = linear_velocity[1]\n",
    "z_dot = linear_velocity[2]"
   ]
  },
  {
   "cell_type": "code",
   "execution_count": 9,
   "metadata": {},
   "outputs": [
    {
     "name": "stdout",
     "output_type": "stream",
     "text": [
      "Roll: 0.00°, Pitch: -0.00°, Yaw: 0.00°\n",
      "Omega X: 0.00 rad/s, Omega Y: 0.00 rad/s, Omega Z: 0.00 rad/s\n",
      "Position (X, Y, Z): (0.00, 0.00, 0.07) m\n",
      "Velocity (X_dot, Y_dot, Z_dot): (0.00, 0.00, 0.00) m/s\n"
     ]
    }
   ],
   "source": [
    "print(f\"Roll: {roll_deg:.2f}°, Pitch: {pitch_deg:.2f}°, Yaw: {yaw_deg:.2f}°\\n\"\n",
    "      f\"Omega X: {omega_x:.2f} rad/s, Omega Y: {omega_y:.2f} rad/s, Omega Z: {omega_z:.2f} rad/s\\n\"\n",
    "      f\"Position (X, Y, Z): ({x:.2f}, {y:.2f}, {z:.2f}) m\\n\"\n",
    "      f\"Velocity (X_dot, Y_dot, Z_dot): ({x_dot:.2f}, {y_dot:.2f}, {z_dot:.2f}) m/s\")\n"
   ]
  },
  {
   "cell_type": "code",
   "execution_count": 10,
   "metadata": {},
   "outputs": [
    {
     "name": "stdout",
     "output_type": "stream",
     "text": [
      "Posisi Roda 0: (0.0, 0.0, 0.0)\n",
      "Posisi Roda 1: (0.0, 0.0, 0.0)\n"
     ]
    }
   ],
   "source": [
    "# Misalkan roda terletak pada link 0 dan 1\n",
    "wheel_indices = [0, 1]  # Ganti ini dengan indeks link roda yang sesuai\n",
    "\n",
    "# Mendapatkan posisi dari setiap roda\n",
    "for wheel_index in wheel_indices:\n",
    "    wheel_state = p.getLinkState(robot_id, wheel_index)\n",
    "    wheel_pos = wheel_state[0]  # Posisi roda\n",
    "    print(f\"Posisi Roda {wheel_index}: {wheel_pos}\")"
   ]
  },
  {
   "cell_type": "code",
   "execution_count": 11,
   "metadata": {},
   "outputs": [
    {
     "name": "stdout",
     "output_type": "stream",
     "text": [
      "Titik Tengah Roda: (0.0, 0.0, 0.0)\n"
     ]
    }
   ],
   "source": [
    "# Jika Anda ingin mendapatkan titik tengah dari kedua roda\n",
    "middle_wheel_x = (p.getLinkState(robot_id, wheel_indices[0])[0][0] + \n",
    "                   p.getLinkState(robot_id, wheel_indices[1])[0][0]) / 2\n",
    "middle_wheel_y = (p.getLinkState(robot_id, wheel_indices[0])[0][1] + \n",
    "                   p.getLinkState(robot_id, wheel_indices[1])[0][1]) / 2\n",
    "middle_wheel_z = (p.getLinkState(robot_id, wheel_indices[0])[0][2] + \n",
    "                   p.getLinkState(robot_id, wheel_indices[1])[0][2]) / 2\n",
    "\n",
    "middle_wheel_pos = (middle_wheel_x, middle_wheel_y, middle_wheel_z)\n",
    "print(f\"Titik Tengah Roda: {middle_wheel_pos}\")"
   ]
  },
  {
   "cell_type": "code",
   "execution_count": 12,
   "metadata": {},
   "outputs": [
    {
     "name": "stdout",
     "output_type": "stream",
     "text": [
      "Dimensi Body Robot:\n",
      "Shape Index: 0, Type: 5, Dimensions: (1.0, 1.0, 1.0)\n",
      "Shape Index: 1, Type: 5, Dimensions: (1.0, 1.0, 1.0)\n",
      "Shape Index: 2, Type: 5, Dimensions: (1.0, 1.0, 1.0)\n",
      "\n",
      "Dimensi Roda:\n",
      "Roda Index: 0, Shape Index: 0, Type: 5, Dimensions: (1.0, 1.0, 1.0)\n",
      "Roda Index: 0, Shape Index: 1, Type: 5, Dimensions: (1.0, 1.0, 1.0)\n",
      "Roda Index: 0, Shape Index: 2, Type: 5, Dimensions: (1.0, 1.0, 1.0)\n",
      "Roda Index: 1, Shape Index: 0, Type: 5, Dimensions: (1.0, 1.0, 1.0)\n",
      "Roda Index: 1, Shape Index: 1, Type: 5, Dimensions: (1.0, 1.0, 1.0)\n",
      "Roda Index: 1, Shape Index: 2, Type: 5, Dimensions: (1.0, 1.0, 1.0)\n"
     ]
    }
   ],
   "source": [
    "import pybullet as p\n",
    "import pybullet_data\n",
    "\n",
    "# Connect to PyBullet and setup environment\n",
    "p.connect(p.DIRECT)\n",
    "p.setAdditionalSearchPath(pybullet_data.getDataPath())\n",
    "plane_id = p.loadURDF(\"plane.urdf\")\n",
    "robot_id = p.loadURDF(\"twsbr_env/envs/urdf/twsbr.urdf\")\n",
    "\n",
    "# Mendapatkan data bentuk visual dan data bentuk tabrakan untuk body robot\n",
    "body_visual_data = p.getVisualShapeData(robot_id)\n",
    "body_collision_data = p.getCollisionShapeData(robot_id, 0)\n",
    "\n",
    "# Menampilkan informasi dimensi dari body robot\n",
    "print(\"Dimensi Body Robot:\")\n",
    "for index, shape in enumerate(body_visual_data):\n",
    "    shape_type = shape[2]\n",
    "    dimensions = shape[3]\n",
    "    print(f\"Shape Index: {index}, Type: {shape_type}, Dimensions: {dimensions}\")\n",
    "\n",
    "# Mendapatkan dimensi roda\n",
    "# Misalkan roda terletak pada link 0 dan 1\n",
    "wheel_indices = [0, 1]  # Ganti ini dengan indeks link roda yang sesuai\n",
    "\n",
    "print(\"\\nDimensi Roda:\")\n",
    "for wheel_index in wheel_indices:\n",
    "    wheel_visual_data = p.getVisualShapeData(robot_id, wheel_index)\n",
    "    wheel_collision_data = p.getCollisionShapeData(robot_id, wheel_index)\n",
    "\n",
    "    for index, shape in enumerate(wheel_visual_data):\n",
    "        shape_type = shape[2]\n",
    "        dimensions = shape[3]\n",
    "        print(f\"Roda Index: {wheel_index}, Shape Index: {index}, Type: {shape_type}, Dimensions: {dimensions}\")\n",
    "\n"
   ]
  },
  {
   "cell_type": "code",
   "execution_count": null,
   "metadata": {},
   "outputs": [],
   "source": [
    "import numpy as np\n",
    "\n",
    "# Contoh data massa dan jarak dari sumbu rotasi untuk setiap komponen robot\n",
    "# Format: [(massa1, jarak1), (massa2, jarak2), ...]\n",
    "robot_components = [\n",
    "    (0.308, 0.065),  # Massa 0.5 kg pada jarak 0.1 m\n",
    "    (0.110, 0.0),  # Massa 0.3 kg pada jarak 0.2 m\n",
    "    (0.110, 0.0)   # Massa 0.2 kg pada jarak 0.3 m\n",
    "]\n",
    "\n",
    "# Menghitung total momen inersia\n",
    "total_inertia = sum(m * (r ** 2) for m, r in robot_components)\n",
    "\n",
    "print(f\"Total Momen Inersia Robot: {total_inertia:.4f} kg*m^2\")\n"
   ]
  },
  {
   "cell_type": "code",
   "execution_count": null,
   "metadata": {},
   "outputs": [],
   "source": [
    "# Get the collision shape data for the plane\n",
    "plane_collision_data = p.getCollisionShapeData(plane_id, 0)\n",
    "print(\"Plane Friction Values:\")\n",
    "for data in plane_collision_data:\n",
    "    print(f\"Friction: {data[2]['friction']}\")"
   ]
  },
  {
   "cell_type": "code",
   "execution_count": null,
   "metadata": {},
   "outputs": [],
   "source": [
    "robot_inertial_data = p.getInertiaShapeData(robot_id, 0)"
   ]
  },
  {
   "cell_type": "code",
   "execution_count": null,
   "metadata": {},
   "outputs": [],
   "source": [
    "# Get the collision shape data for the robot chassis and wheels\n",
    "robot_collision_data = p.getCollisionShapeData(robot_id, 0)\n",
    "robot_collision_data "
   ]
  },
  {
   "cell_type": "code",
   "execution_count": null,
   "metadata": {},
   "outputs": [],
   "source": [
    "robot_visual_data = p.getVisualShapeData(robot_id, 0)\n",
    "robot_visual_data"
   ]
  },
  {
   "cell_type": "code",
   "execution_count": null,
   "metadata": {},
   "outputs": [],
   "source": [
    "# Mendapatkan posisi dan orientasi chassis\n",
    "chassis_pos, chassis_orn = p.getBasePositionAndOrientation(robot_id)\n",
    "\n",
    "# Mendapatkan informasi tentang joint\n",
    "wheel_joint_index = 0  # Indeks joint roda (ganti sesuai dengan URDF Anda)\n",
    "wheel_joint_info = p.getJointInfo(robot_id, wheel_joint_index)\n",
    "\n",
    "# Mendapatkan posisi dan orientasi joint roda\n",
    "wheel_joint_state = p.getJointState(robot_id, wheel_joint_index)\n",
    "wheel_joint_position = wheel_joint_state[0]  # Posisi joint\n",
    "\n",
    "# Menghitung posisi sumbu putar roda\n",
    "wheel_origin = wheel_joint_info[1]  # Posisi asal joint\n",
    "wheel_axis = wheel_joint_info[8]  # Sumbu putar\n",
    "\n",
    "# Mencetak posisi chassis dan roda\n",
    "print(f\"Chassis Position: {chassis_pos}\")\n",
    "print(f\"Wheel Joint Origin: {wheel_origin}\")\n",
    "print(f\"Wheel Axis of Rotation: {wheel_axis}\")\n",
    "\n",
    "# Jika Anda ingin menghitung posisi sumbu putar roda\n",
    "# Tambahkan posisi asal dengan orientasi joint (yang dapat mempengaruhi sumbu putar)\n",
    "# Misalnya, kita bisa menggunakan quaternions untuk menghitung ini\n",
    "\n",
    "# Mengubah orientasi joint dari quaternion ke Euler untuk penggunaan lebih lanjut\n",
    "roll, pitch, yaw = p.getEulerFromQuaternion(chassis_orn)\n",
    "wheel_offset = [0, 0, 0]  # Sesuaikan ini dengan offset dari chassis ke roda\n",
    "# Anda mungkin perlu mengalikan dengan rotasi untuk mendapatkan sumbu yang benar.\n",
    "\n",
    "# Mencetak letak sumbu putar\n",
    "print(f\"Position of Wheel Axis (considering chassis origin): {wheel_origin}\")\n",
    "\n",
    "# Disconnect from PyBullet\n",
    "\n",
    "# Mendapatkan informasi tentang joint\n",
    "wheel_joint_index = 0  # Indeks joint roda (ganti sesuai dengan URDF Anda)\n",
    "wheel_joint_info = p.getJointInfo(robot_id, wheel_joint_index)\n",
    "wheel_joint_info\n",
    "\n",
    "wheel_joint_index = 1  # Indeks joint roda (ganti sesuai dengan URDF Anda)\n",
    "wheel_joint_info = p.getJointInfo(robot_id, wheel_joint_index)\n",
    "wheel_joint_info"
   ]
  }
 ],
 "metadata": {
  "kernelspec": {
   "display_name": "robot_sim",
   "language": "python",
   "name": "python3"
  },
  "language_info": {
   "codemirror_mode": {
    "name": "ipython",
    "version": 3
   },
   "file_extension": ".py",
   "mimetype": "text/x-python",
   "name": "python",
   "nbconvert_exporter": "python",
   "pygments_lexer": "ipython3",
   "version": "3.10.15"
  }
 },
 "nbformat": 4,
 "nbformat_minor": 2
}
