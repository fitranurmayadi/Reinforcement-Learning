{
 "cells": [
  {
   "cell_type": "code",
   "execution_count": 1,
   "metadata": {},
   "outputs": [],
   "source": [
    "import pybullet as p\n",
    "import pybullet_data\n",
    "import time\n",
    "import numpy as np"
   ]
  },
  {
   "cell_type": "code",
   "execution_count": 2,
   "metadata": {},
   "outputs": [],
   "source": [
    "# Start the physics engine\n",
    "p.connect(p.DIRECT)\n",
    "p.setAdditionalSearchPath(pybullet_data.getDataPath())  # Set path for pybullet data\n",
    "p.setGravity(0, 0, -9.8)\n",
    "plane_id = p.loadURDF(\"plane.urdf\")  # Menambahkan tanah"
   ]
  },
  {
   "cell_type": "code",
   "execution_count": 3,
   "metadata": {},
   "outputs": [
    {
     "name": "stdout",
     "output_type": "stream",
     "text": [
      "Number of joints in the robot: 2\n"
     ]
    }
   ],
   "source": [
    "# Load your URDF file\n",
    "robot_id= p.loadURDF(\"twsbr_env/envs/urdf/twsbr.urdf\")\n",
    "# Get the number of joints\n",
    "num_joints = p.getNumJoints(robot_id)\n",
    "print(f\"Number of joints in the robot: {num_joints}\")"
   ]
  },
  {
   "cell_type": "code",
   "execution_count": 4,
   "metadata": {},
   "outputs": [
    {
     "name": "stdout",
     "output_type": "stream",
     "text": [
      "Joint 0: b'left_wheel_joint'\n",
      "Joint 1: b'right_wheel_joint'\n"
     ]
    }
   ],
   "source": [
    "# Print joint info to find the correct indices\n",
    "for i in range(num_joints):\n",
    "    joint_info = p.getJointInfo(robot_id, i)\n",
    "    print(f\"Joint {i}: {joint_info[1]}\")"
   ]
  },
  {
   "cell_type": "code",
   "execution_count": 5,
   "metadata": {},
   "outputs": [],
   "source": [
    "# After determining the correct joint indices from the printed info\n",
    "left_wheel_joint = 0  # Set based on the correct index for the left wheel\n",
    "right_wheel_joint = 1  # Set based on the correct index for the right wheel"
   ]
  },
  {
   "cell_type": "code",
   "execution_count": 6,
   "metadata": {},
   "outputs": [],
   "source": [
    "pos, orn = p.getBasePositionAndOrientation(robot_id)\n",
    "linear_velocity, angular_velocity = p.getBaseVelocity(robot_id)"
   ]
  },
  {
   "cell_type": "code",
   "execution_count": 7,
   "metadata": {},
   "outputs": [],
   "source": [
    "roll, pitch, yaw = p.getEulerFromQuaternion(orn)\n",
    "roll_deg = np.degrees(roll)\n",
    "pitch_deg = np.degrees(pitch)\n",
    "yaw_deg = np.degrees(yaw)\n",
    "\n",
    "omega_x = angular_velocity[0]\n",
    "omega_y = angular_velocity[1]\n",
    "omega_z = angular_velocity[2]\n",
    "\n",
    "x = pos[0]\n",
    "y = pos[1]\n",
    "z = pos[2]\n",
    "\n",
    "x_dot = linear_velocity[0]\n",
    "y_dot = linear_velocity[1]\n",
    "z_dot = linear_velocity[2]"
   ]
  },
  {
   "cell_type": "code",
   "execution_count": 8,
   "metadata": {},
   "outputs": [
    {
     "name": "stdout",
     "output_type": "stream",
     "text": [
      "Roll: 0.00°, Pitch: -0.00°, Yaw: 0.00°\n",
      "Omega X: 0.00 rad/s, Omega Y: 0.00 rad/s, Omega Z: 0.00 rad/s\n",
      "Position (X, Y, Z): (0.00, 0.00, 0.00) m\n",
      "Velocity (X_dot, Y_dot, Z_dot): (0.00, 0.00, 0.00) m/s\n"
     ]
    }
   ],
   "source": [
    "print(f\"Roll: {roll_deg:.2f}°, Pitch: {pitch_deg:.2f}°, Yaw: {yaw_deg:.2f}°\\n\"\n",
    "      f\"Omega X: {omega_x:.2f} rad/s, Omega Y: {omega_y:.2f} rad/s, Omega Z: {omega_z:.2f} rad/s\\n\"\n",
    "      f\"Position (X, Y, Z): ({x:.2f}, {y:.2f}, {z:.2f}) m\\n\"\n",
    "      f\"Velocity (X_dot, Y_dot, Z_dot): ({x_dot:.2f}, {y_dot:.2f}, {z_dot:.2f}) m/s\")"
   ]
  },
  {
   "cell_type": "code",
   "execution_count": 9,
   "metadata": {},
   "outputs": [
    {
     "name": "stdout",
     "output_type": "stream",
     "text": [
      "Posisi Roda 0: (0.0, 0.0, 0.0)\n",
      "Posisi Roda 1: (0.0, 0.0, 0.0)\n"
     ]
    }
   ],
   "source": [
    "# Misalkan roda terletak pada link 0 dan 1\n",
    "wheel_indices = [0, 1]  # Ganti ini dengan indeks link roda yang sesuai\n",
    "\n",
    "# Mendapatkan posisi dari setiap roda\n",
    "for wheel_index in wheel_indices:\n",
    "    wheel_state = p.getLinkState(robot_id, wheel_index)\n",
    "    wheel_pos = wheel_state[0]  # Posisi roda\n",
    "    print(f\"Posisi Roda {wheel_index}: {wheel_pos}\")"
   ]
  },
  {
   "cell_type": "code",
   "execution_count": 10,
   "metadata": {},
   "outputs": [
    {
     "name": "stdout",
     "output_type": "stream",
     "text": [
      "Titik Tengah Roda: (0.0, 0.0, 0.0)\n"
     ]
    }
   ],
   "source": [
    "# Jika Anda ingin mendapatkan titik tengah dari kedua roda\n",
    "middle_wheel_x = (p.getLinkState(robot_id, wheel_indices[0])[0][0] + \n",
    "                   p.getLinkState(robot_id, wheel_indices[1])[0][0]) / 2\n",
    "middle_wheel_y = (p.getLinkState(robot_id, wheel_indices[0])[0][1] + \n",
    "                   p.getLinkState(robot_id, wheel_indices[1])[0][1]) / 2\n",
    "middle_wheel_z = (p.getLinkState(robot_id, wheel_indices[0])[0][2] + \n",
    "                   p.getLinkState(robot_id, wheel_indices[1])[0][2]) / 2\n",
    "\n",
    "middle_wheel_pos = (middle_wheel_x, middle_wheel_y, middle_wheel_z)\n",
    "print(f\"Titik Tengah Roda: {middle_wheel_pos}\")"
   ]
  },
  {
   "cell_type": "code",
   "execution_count": 11,
   "metadata": {},
   "outputs": [
    {
     "name": "stdout",
     "output_type": "stream",
     "text": [
      "Dimensi Body Robot:\n",
      "Shape Index: 0, Type: 5, Dimensions: (1.0, 1.0, 1.0)\n",
      "Shape Index: 1, Type: 5, Dimensions: (1.0, 1.0, 1.0)\n",
      "Shape Index: 2, Type: 5, Dimensions: (1.0, 1.0, 1.0)\n",
      "Shape Index: 3, Type: 3, Dimensions: (0.01, 0.01, 0.01)\n",
      "\n",
      "Dimensi Roda:\n",
      "Roda Index: 0, Shape Index: 0, Type: 5, Dimensions: (1.0, 1.0, 1.0)\n",
      "Roda Index: 0, Shape Index: 1, Type: 5, Dimensions: (1.0, 1.0, 1.0)\n",
      "Roda Index: 0, Shape Index: 2, Type: 5, Dimensions: (1.0, 1.0, 1.0)\n",
      "Roda Index: 0, Shape Index: 3, Type: 3, Dimensions: (0.01, 0.01, 0.01)\n",
      "Roda Index: 1, Shape Index: 0, Type: 5, Dimensions: (1.0, 1.0, 1.0)\n",
      "Roda Index: 1, Shape Index: 1, Type: 5, Dimensions: (1.0, 1.0, 1.0)\n",
      "Roda Index: 1, Shape Index: 2, Type: 5, Dimensions: (1.0, 1.0, 1.0)\n",
      "Roda Index: 1, Shape Index: 3, Type: 3, Dimensions: (0.01, 0.01, 0.01)\n"
     ]
    }
   ],
   "source": [
    "import pybullet as p\n",
    "import pybullet_data\n",
    "\n",
    "# Connect to PyBullet and setup environment\n",
    "p.connect(p.DIRECT)\n",
    "p.setAdditionalSearchPath(pybullet_data.getDataPath())\n",
    "plane_id = p.loadURDF(\"plane.urdf\")\n",
    "robot_id = p.loadURDF(\"twsbr_env/envs/urdf/twsbr.urdf\")\n",
    "\n",
    "# Mendapatkan data bentuk visual dan data bentuk tabrakan untuk body robot\n",
    "body_visual_data = p.getVisualShapeData(robot_id)\n",
    "body_collision_data = p.getCollisionShapeData(robot_id, 0)\n",
    "\n",
    "# Menampilkan informasi dimensi dari body robot\n",
    "print(\"Dimensi Body Robot:\")\n",
    "for index, shape in enumerate(body_visual_data):\n",
    "    shape_type = shape[2]\n",
    "    dimensions = shape[3]\n",
    "    print(f\"Shape Index: {index}, Type: {shape_type}, Dimensions: {dimensions}\")\n",
    "\n",
    "# Mendapatkan dimensi roda\n",
    "# Misalkan roda terletak pada link 0 dan 1\n",
    "wheel_indices = [0, 1]  # Ganti ini dengan indeks link roda yang sesuai\n",
    "\n",
    "print(\"\\nDimensi Roda:\")\n",
    "for wheel_index in wheel_indices:\n",
    "    wheel_visual_data = p.getVisualShapeData(robot_id, wheel_index)\n",
    "    wheel_collision_data = p.getCollisionShapeData(robot_id, wheel_index)\n",
    "\n",
    "    for index, shape in enumerate(wheel_visual_data):\n",
    "        shape_type = shape[2]\n",
    "        dimensions = shape[3]\n",
    "        print(f\"Roda Index: {wheel_index}, Shape Index: {index}, Type: {shape_type}, Dimensions: {dimensions}\")\n"
   ]
  },
  {
   "cell_type": "code",
   "execution_count": 12,
   "metadata": {},
   "outputs": [
    {
     "name": "stdout",
     "output_type": "stream",
     "text": [
      "Base link (Chassis):\n",
      "(-0.0525681186914444, -0.0669000033736229, 0.0019990078657865507)\n",
      "(0.0525681186914444, 0.06709999930858612, 0.14502439987659455)\n",
      "  Dimensions: [0.1051362373828888, 0.13400000268220902, 0.143025392010808]\n",
      "  Center of Link: [0.0, 9.999796748161316e-05, 0.07351170387119055]\n",
      "Link 0: Left_Wheel\n",
      "(-0.04599999976158143, 0.052999999701976774, -0.001977713048942717)\n",
      "(0.04599999976158143, 0.06699999761581421, 0.08997770899597239)\n",
      "  Dimensions: [0.09199999952316286, 0.013999997913837436, 0.09195542204491511]\n",
      "  Center of Link: [0.0, 0.05999999865889549, 0.04399999797351484]\n",
      "  Joint 0: left_wheel_joint\n",
      "  Joint Origin Position: (0.0, 0.0, 0.0441)\n",
      "Link 1: Right_Wheel\n",
      "(-0.04599999976158143, -0.06699999761581421, -0.001977713048942717)\n",
      "(0.04599999976158143, -0.052999999701976774, 0.08997770899597239)\n",
      "  Dimensions: [0.09199999952316286, 0.013999997913837436, 0.09195542204491511]\n",
      "  Center of Link: [0.0, -0.05999999865889549, 0.04399999797351484]\n",
      "  Joint 1: right_wheel_joint\n",
      "  Joint Origin Position: (0.0, 0.0, 0.0441)\n",
      "Link 2: line_sensor_link\n",
      "(0.005000000000000003, -0.0049999999999999975, 0.0030000000000000027)\n",
      "(0.014999999999999998, 0.0049999999999999975, 0.012999999999999998)\n",
      "  Dimensions: [0.009999999999999995, 0.009999999999999995, 0.009999999999999995]\n",
      "  Center of Link: [0.01, 0.0, 0.008]\n",
      "  Joint 2: line_sensor_joint\n",
      "  Joint Origin Position: (0.01, 0.0, 0.008)\n",
      "Link 3: line_target_position_vertual_link\n",
      "(0.009000000000000001, -0.001, 0.006)\n",
      "(0.011, 0.001, 0.008)\n",
      "  Dimensions: [0.0019999999999999983, 0.002, 0.002]\n",
      "  Center of Link: [0.01, 0.0, 0.007]\n",
      "  Joint 3: line_sensor_target_joint\n",
      "  Joint Origin Position: (0.0, 0.0, -0.001)\n"
     ]
    }
   ],
   "source": [
    "import pybullet as p\n",
    "import pybullet_data\n",
    "\n",
    "# Connect to PyBullet and setup environment\n",
    "p.connect(p.DIRECT)\n",
    "p.setAdditionalSearchPath(pybullet_data.getDataPath())\n",
    "plane_id = p.loadURDF(\"plane.urdf\")\n",
    "robot_id = p.loadURDF(\"twsbr_env/envs/urdf/twsbr.urdf\")\n",
    "# Mendapatkan jumlah link\n",
    "num_links = p.getNumJoints(robot_id)\n",
    "\n",
    "# Loop untuk setiap link dan joint\n",
    "for link_index in range(-1, num_links):  # -1 untuk base link\n",
    "    # Mendapatkan bounding box link (dimensi dan titik tengah)\n",
    "    aabb_min, aabb_max = p.getAABB(robot_id, link_index)\n",
    "    dimensions = [aabb_max[i] - aabb_min[i] for i in range(3)]\n",
    "    center_of_link = [(aabb_max[i] + aabb_min[i]) / 2 for i in range(3)]\n",
    "\n",
    "    if link_index == -1:\n",
    "        print(\"Base link (Chassis):\")\n",
    "    else:\n",
    "        link_name = p.getJointInfo(robot_id, link_index)[12].decode(\"utf-8\")\n",
    "        print(f\"Link {link_index}: {link_name}\")\n",
    "\n",
    "    print(aabb_min)\n",
    "    print(aabb_max)\n",
    "    print(f\"  Dimensions: {dimensions}\")\n",
    "    print(f\"  Center of Link: {center_of_link}\")\n",
    "\n",
    "    # Mendapatkan informasi joint untuk link yang memiliki joint\n",
    "    if link_index != -1:\n",
    "        joint_info = p.getJointInfo(robot_id, link_index)\n",
    "        joint_name = joint_info[1].decode(\"utf-8\")\n",
    "        joint_origin = joint_info[14]\n",
    "        print(f\"  Joint {link_index}: {joint_name}\")\n",
    "        print(f\"  Joint Origin Position: {joint_origin}\")\n"
   ]
  },
  {
   "cell_type": "code",
   "execution_count": 13,
   "metadata": {},
   "outputs": [
    {
     "name": "stdout",
     "output_type": "stream",
     "text": [
      "Total Momen Inersia Robot: 0.0013 kg*m^2\n"
     ]
    }
   ],
   "source": [
    "import numpy as np\n",
    "\n",
    "# Contoh data massa dan jarak dari sumbu rotasi untuk setiap komponen robot\n",
    "# Format: [(massa1, jarak1), (massa2, jarak2), ...]\n",
    "robot_components = [\n",
    "    (0.308, 0.065),  # Massa 0.5 kg pada jarak 0.1 m\n",
    "    (0.110, 0.0),  # Massa 0.3 kg pada jarak 0.2 m\n",
    "    (0.110, 0.0)   # Massa 0.2 kg pada jarak 0.3 m\n",
    "]\n",
    "\n",
    "# Menghitung total momen inersia\n",
    "total_inertia = sum(m * (r ** 2) for m, r in robot_components)\n",
    "\n",
    "print(f\"Total Momen Inersia Robot: {total_inertia:.4f} kg*m^2\")\n"
   ]
  },
  {
   "cell_type": "code",
   "execution_count": 27,
   "metadata": {},
   "outputs": [],
   "source": [
    "# Get the collision shape data for the robot chassis and wheels\n",
    "robot_collision_data = p.getCollisionShapeData(robot_id, -1)"
   ]
  },
  {
   "cell_type": "code",
   "execution_count": 28,
   "metadata": {},
   "outputs": [
    {
     "data": {
      "text/plain": [
       "((8,\n",
       "  -1,\n",
       "  5,\n",
       "  (1.0, 1.0, 1.0),\n",
       "  b'twsbr_env/envs/urdf/meshes/Robot_Body.dae',\n",
       "  (0.0, 0.0, -0.04),\n",
       "  (0.0, 0.0, 0.0, 1.0)),)"
      ]
     },
     "execution_count": 28,
     "metadata": {},
     "output_type": "execute_result"
    }
   ],
   "source": [
    "robot_collision_data "
   ]
  },
  {
   "cell_type": "code",
   "execution_count": 24,
   "metadata": {},
   "outputs": [
    {
     "name": "stdout",
     "output_type": "stream",
     "text": [
      "Chassis Position: (0.0, 0.0, 0.04)\n",
      "Wheel Joint Origin: b'left_wheel_joint'\n",
      "Wheel Axis of Rotation: 0.0\n",
      "Position of Wheel Axis (considering chassis origin): b'left_wheel_joint'\n"
     ]
    }
   ],
   "source": [
    "# Mendapatkan posisi dan orientasi chassis\n",
    "chassis_pos, chassis_orn = p.getBasePositionAndOrientation(robot_id)\n",
    "\n",
    "# Mendapatkan informasi tentang joint\n",
    "wheel_joint_index = 0  # Indeks joint roda (ganti sesuai dengan URDF Anda)\n",
    "wheel_joint_info = p.getJointInfo(robot_id, wheel_joint_index)\n",
    "\n",
    "# Mendapatkan posisi dan orientasi joint roda\n",
    "wheel_joint_state = p.getJointState(robot_id, wheel_joint_index)\n",
    "wheel_joint_position = wheel_joint_state[0]  # Posisi joint\n",
    "\n",
    "# Menghitung posisi sumbu putar roda\n",
    "wheel_origin = wheel_joint_info[1]  # Posisi asal joint\n",
    "wheel_axis = wheel_joint_info[8]  # Sumbu putar\n",
    "\n",
    "# Mencetak posisi chassis dan roda\n",
    "print(f\"Chassis Position: {chassis_pos}\")\n",
    "print(f\"Wheel Joint Origin: {wheel_origin}\")\n",
    "print(f\"Wheel Axis of Rotation: {wheel_axis}\")\n",
    "\n",
    "# Jika Anda ingin menghitung posisi sumbu putar roda\n",
    "# Tambahkan posisi asal dengan orientasi joint (yang dapat mempengaruhi sumbu putar)\n",
    "# Misalnya, kita bisa menggunakan quaternions untuk menghitung ini\n",
    "\n",
    "# Mengubah orientasi joint dari quaternion ke Euler untuk penggunaan lebih lanjut\n",
    "roll, pitch, yaw = p.getEulerFromQuaternion(chassis_orn)\n",
    "wheel_offset = [0, 0, 0]  # Sesuaikan ini dengan offset dari chassis ke roda\n",
    "# Anda mungkin perlu mengalikan dengan rotasi untuk mendapatkan sumbu yang benar.\n",
    "\n",
    "# Mencetak letak sumbu putar\n",
    "print(f\"Position of Wheel Axis (considering chassis origin): {wheel_origin}\")\n",
    "\n",
    "# Disconnect from PyBullet"
   ]
  },
  {
   "cell_type": "code",
   "execution_count": 25,
   "metadata": {},
   "outputs": [
    {
     "data": {
      "text/plain": [
       "(0,\n",
       " b'left_wheel_joint',\n",
       " 0,\n",
       " 7,\n",
       " 6,\n",
       " 1,\n",
       " 0.0,\n",
       " 0.0,\n",
       " 0.0,\n",
       " -1.0,\n",
       " 10.0,\n",
       " 1000.0,\n",
       " b'Left_Wheel',\n",
       " (-0.9999999999932538, -3.6732051035270885e-06, 0.0),\n",
       " (0.0, 0.0, -0.018500000000000003),\n",
       " (0.0, 0.0, 0.9999999999932538, -3.6732051035270885e-06),\n",
       " -1)"
      ]
     },
     "execution_count": 25,
     "metadata": {},
     "output_type": "execute_result"
    }
   ],
   "source": [
    "# Mendapatkan informasi tentang joint\n",
    "wheel_joint_index = 0  # Indeks joint roda (ganti sesuai dengan URDF Anda)\n",
    "wheel_joint_info = p.getJointInfo(robot_id, wheel_joint_index)\n",
    "wheel_joint_info"
   ]
  },
  {
   "cell_type": "code",
   "execution_count": 26,
   "metadata": {},
   "outputs": [
    {
     "data": {
      "text/plain": [
       "(1,\n",
       " b'right_wheel_joint',\n",
       " 0,\n",
       " 8,\n",
       " 7,\n",
       " 1,\n",
       " 0.0,\n",
       " 0.0,\n",
       " 0.0,\n",
       " -1.0,\n",
       " 10.0,\n",
       " 1000.0,\n",
       " b'Right_Wheel',\n",
       " (0.9999999999932538, -3.6732051035270885e-06, 0.0),\n",
       " (0.0, 0.0, -0.018500000000000003),\n",
       " (0.0, 0.0, 0.0, 1.0),\n",
       " -1)"
      ]
     },
     "execution_count": 26,
     "metadata": {},
     "output_type": "execute_result"
    }
   ],
   "source": [
    "wheel_joint_index = 1  # Indeks joint roda (ganti sesuai dengan URDF Anda)\n",
    "wheel_joint_info = p.getJointInfo(robot_id, wheel_joint_index)\n",
    "wheel_joint_info"
   ]
  },
  {
   "cell_type": "code",
   "execution_count": null,
   "metadata": {},
   "outputs": [
    {
     "name": "stdout",
     "output_type": "stream",
     "text": [
      "Jumlah joint dalam Lunar Lander: 13\n",
      "Joint index: 0 Joint name: main_thruster_joint Link name: main_thruster\n",
      "Joint index: 1 Joint name: rcs_front_joint Link name: rcs_front\n",
      "Joint index: 2 Joint name: rcs_back_joint Link name: rcs_back\n",
      "Joint index: 3 Joint name: rcs_left_joint Link name: rcs_left\n",
      "Joint index: 4 Joint name: rcs_right_joint Link name: rcs_right\n",
      "Joint index: 5 Joint name: leg_front_left_joint Link name: leg_front_left\n",
      "Joint index: 6 Joint name: leg_front_left_sensor_joint Link name: leg_front_left_sensor\n",
      "Joint index: 7 Joint name: leg_front_right_joint Link name: leg_front_right\n",
      "Joint index: 8 Joint name: leg_front_right_sensor_joint Link name: leg_front_right_sensor\n",
      "Joint index: 9 Joint name: leg_back_left_joint Link name: leg_back_left\n",
      "Joint index: 10 Joint name: leg_back_left_sensor_joint Link name: leg_back_left_sensor\n",
      "Joint index: 11 Joint name: leg_back_right_joint Link name: leg_back_right\n",
      "Joint index: 12 Joint name: leg_back_right_sensor_joint Link name: leg_back_right_sensor\n"
     ]
    },
    {
     "ename": "error",
     "evalue": "Not connected to physics server.",
     "output_type": "error",
     "traceback": [
      "\u001b[1;31m---------------------------------------------------------------------------\u001b[0m",
      "\u001b[1;31merror\u001b[0m                                     Traceback (most recent call last)",
      "Cell \u001b[1;32mIn[1], line 57\u001b[0m\n\u001b[0;32m     54\u001b[0m         time\u001b[38;5;241m.\u001b[39msleep(timeStep)\n\u001b[0;32m     56\u001b[0m \u001b[38;5;28;01mif\u001b[39;00m \u001b[38;5;18m__name__\u001b[39m \u001b[38;5;241m==\u001b[39m \u001b[38;5;124m'\u001b[39m\u001b[38;5;124m__main__\u001b[39m\u001b[38;5;124m'\u001b[39m:\n\u001b[1;32m---> 57\u001b[0m     \u001b[43mmain\u001b[49m\u001b[43m(\u001b[49m\u001b[43m)\u001b[49m\n",
      "Cell \u001b[1;32mIn[1], line 41\u001b[0m, in \u001b[0;36mmain\u001b[1;34m()\u001b[0m\n\u001b[0;32m     39\u001b[0m timeStep \u001b[38;5;241m=\u001b[39m \u001b[38;5;241m1.\u001b[39m \u001b[38;5;241m/\u001b[39m \u001b[38;5;241m240.\u001b[39m\n\u001b[0;32m     40\u001b[0m \u001b[38;5;28;01mwhile\u001b[39;00m \u001b[38;5;28;01mTrue\u001b[39;00m:\n\u001b[1;32m---> 41\u001b[0m     \u001b[43mp\u001b[49m\u001b[38;5;241;43m.\u001b[39;49m\u001b[43mstepSimulation\u001b[49m\u001b[43m(\u001b[49m\u001b[43m)\u001b[49m\n\u001b[0;32m     43\u001b[0m     \u001b[38;5;66;03m# Contoh: Terapkan gaya dorong ke masing-masing thruster.\u001b[39;00m\n\u001b[0;32m     44\u001b[0m     \u001b[38;5;66;03m# Nilai gaya di sini hanyalah contoh; sesuaikan dengan kebutuhan simulasi.\u001b[39;00m\n\u001b[0;32m     45\u001b[0m     thrust_force \u001b[38;5;241m=\u001b[39m [\u001b[38;5;241m0\u001b[39m, \u001b[38;5;241m0\u001b[39m, \u001b[38;5;241m100\u001b[39m]  \u001b[38;5;66;03m# Gaya ke atas (dalam satuan Newton)\u001b[39;00m\n",
      "\u001b[1;31merror\u001b[0m: Not connected to physics server."
     ]
    }
   ],
   "source": [
    "import pybullet as p\n",
    "import pybullet_data\n",
    "import time\n",
    "\n",
    "def main():\n",
    "    # Hubungkan ke PyBullet dengan GUI\n",
    "    physicsClient = p.connect(p.GUI)\n",
    "    \n",
    "    # Set direktori tambahan untuk file URDF\n",
    "    p.setAdditionalSearchPath(pybullet_data.getDataPath())\n",
    "    \n",
    "    # Set gravitasi sesuai dengan lingkungan bulan (1.625 m/s² ke bawah)\n",
    "    p.setGravity(0, 0, -1.625)\n",
    "    \n",
    "    # (Opsional) Muat plane sebagai permukaan bulan sederhana\n",
    "    planeId = p.loadURDF(\"plane.urdf\")\n",
    "    \n",
    "    # Muat URDF Lunar Lander\n",
    "    landerStartPos = [0, 0, 0]  # Posisi awal (x, y, z)\n",
    "    landerStartOrientation = p.getQuaternionFromEuler([0, 0, 0])\n",
    "    landerId = p.loadURDF(\"LunarLander3DEnv/envs/urdf/lunarlanderv2.urdf\", landerStartPos, landerStartOrientation, useFixedBase=False)\n",
    "    \n",
    "    # Debug: Cetak jumlah joint yang dimiliki Lunar Lander\n",
    "    num_joints = p.getNumJoints(landerId)\n",
    "    print(\"Jumlah joint dalam Lunar Lander:\", num_joints)\n",
    "    \n",
    "    # Buat mapping nama link untuk thruster\n",
    "    thruster_links = {}\n",
    "    for i in range(num_joints):\n",
    "        joint_info = p.getJointInfo(landerId, i)\n",
    "        joint_name = joint_info[1].decode(\"utf-8\")\n",
    "        link_name = joint_info[12].decode(\"utf-8\")\n",
    "        print(\"Joint index:\", i, \"Joint name:\", joint_name, \"Link name:\", link_name)\n",
    "        # Asumsikan nama link untuk thruster adalah \"thruster_1\", \"thruster_2\", dst.\n",
    "        if link_name in [\"thruster_1\", \"thruster_2\", \"thruster_3\", \"thruster_4\"]:\n",
    "            thruster_links[link_name] = i\n",
    "    \n",
    "    # Simulasi loop\n",
    "    timeStep = 1. / 240.\n",
    "    while True:\n",
    "        p.stepSimulation()\n",
    "        \n",
    "        # Contoh: Terapkan gaya dorong ke masing-masing thruster.\n",
    "        # Nilai gaya di sini hanyalah contoh; sesuaikan dengan kebutuhan simulasi.\n",
    "        thrust_force = [0, 0, 100]  # Gaya ke atas (dalam satuan Newton)\n",
    "        for thruster_name, link_index in thruster_links.items():\n",
    "            # Terapkan gaya eksternal pada setiap link thruster\n",
    "            p.applyExternalForce(objectUniqueId=landerId,\n",
    "                                 linkIndex=link_index,\n",
    "                                 forceObj=thrust_force,\n",
    "                                 posObj=[0, 0, 0],   # Titik aplikasi (origin pada frame link)\n",
    "                                 flags=p.LINK_FRAME)\n",
    "        \n",
    "        time.sleep(timeStep)\n",
    "\n",
    "if __name__ == '__main__':\n",
    "    main()\n"
   ]
  },
  {
   "cell_type": "code",
   "execution_count": 1,
   "metadata": {},
   "outputs": [
    {
     "name": "stdout",
     "output_type": "stream",
     "text": [
      "Landing gagal!\n",
      "position: 0.0023629150819033384\n",
      "contacts: [-1. -1. -1. -1.]\n",
      "terminated: True, truncated: False\n",
      "info{'step_count': 731, 'fuel': np.float64(3967.104999999947)}\n",
      "Total reward: -286.74449284815967\n",
      "Step: 730\n",
      "Resetting environment...\n",
      "Landing gagal!\n",
      "position: 0.0023629150819033384\n",
      "contacts: [-1. -1. -1. -1.]\n",
      "terminated: True, truncated: False\n",
      "info{'step_count': 731, 'fuel': np.float64(3967.104999999947)}\n",
      "Total reward: -286.2500949695128\n",
      "Step: 731\n",
      "Resetting environment...\n",
      "Landing gagal!\n",
      "position: 0.0023629150819033384\n",
      "contacts: [-1. -1. -1. -1.]\n",
      "terminated: True, truncated: False\n",
      "info{'step_count': 731, 'fuel': np.float64(3967.104999999947)}\n",
      "Total reward: -282.0632144256848\n",
      "Step: 731\n",
      "Resetting environment...\n",
      "Landing gagal!\n",
      "position: 0.0023629150819033384\n",
      "contacts: [-1. -1. -1. -1.]\n",
      "terminated: True, truncated: False\n",
      "info{'step_count': 731, 'fuel': np.float64(3967.104999999947)}\n",
      "Total reward: -284.71409190142333\n",
      "Step: 731\n",
      "Resetting environment...\n",
      "Landing gagal!\n",
      "position: 0.0023629150819033384\n",
      "contacts: [-1. -1. -1. -1.]\n",
      "terminated: True, truncated: False\n",
      "info{'step_count': 731, 'fuel': np.float64(3967.104999999947)}\n",
      "Total reward: -283.93666439199626\n",
      "Step: 731\n",
      "Resetting environment...\n",
      "Landing gagal!\n",
      "position: 0.0023629150819033384\n",
      "contacts: [-1. -1. -1. -1.]\n",
      "terminated: True, truncated: False\n",
      "info{'step_count': 731, 'fuel': np.float64(3967.104999999947)}\n",
      "Total reward: -283.32378514552295\n",
      "Step: 731\n",
      "Resetting environment...\n"
     ]
    },
    {
     "ename": "error",
     "evalue": "Not connected to physics server.",
     "output_type": "error",
     "traceback": [
      "\u001b[1;31m---------------------------------------------------------------------------\u001b[0m",
      "\u001b[1;31merror\u001b[0m                                     Traceback (most recent call last)",
      "Cell \u001b[1;32mIn[1], line 17\u001b[0m\n\u001b[0;32m     15\u001b[0m \u001b[38;5;28;01mwhile\u001b[39;00m \u001b[38;5;129;01mnot\u001b[39;00m truncated:\n\u001b[0;32m     16\u001b[0m     action \u001b[38;5;241m=\u001b[39m [\u001b[38;5;241m0.045\u001b[39m,\u001b[38;5;241m0.045\u001b[39m,\u001b[38;5;241m0.045\u001b[39m,\u001b[38;5;241m0.045\u001b[39m]  \u001b[38;5;66;03m# Aksi: keempat thruster aktif\u001b[39;00m\n\u001b[1;32m---> 17\u001b[0m     obs, reward, terminated, truncated, info \u001b[38;5;241m=\u001b[39m \u001b[43menv\u001b[49m\u001b[38;5;241;43m.\u001b[39;49m\u001b[43mstep\u001b[49m\u001b[43m(\u001b[49m\u001b[43maction\u001b[49m\u001b[43m)\u001b[49m\n\u001b[0;32m     18\u001b[0m     acc_reward \u001b[38;5;241m+\u001b[39m\u001b[38;5;241m=\u001b[39m reward\n\u001b[0;32m     19\u001b[0m     \u001b[38;5;66;03m#print(f\"position: {obs[2] * 100}\")\u001b[39;00m\n\u001b[0;32m     20\u001b[0m     \u001b[38;5;66;03m#print(f\"vertical velocity: {obs[8] * 100}\")\u001b[39;00m\n\u001b[0;32m     21\u001b[0m     \u001b[38;5;66;03m#time.sleep(1/240)  # Delay agar gerakan terlihat\u001b[39;00m\n\u001b[0;32m     22\u001b[0m     \u001b[38;5;66;03m#print(f\"contacts: {obs[13:17]}\")\u001b[39;00m\n",
      "File \u001b[1;32mc:\\Users\\User\\anaconda3\\envs\\robot_sim\\lib\\site-packages\\gymnasium\\wrappers\\order_enforcing.py:56\u001b[0m, in \u001b[0;36mOrderEnforcing.step\u001b[1;34m(self, action)\u001b[0m\n\u001b[0;32m     54\u001b[0m \u001b[38;5;28;01mif\u001b[39;00m \u001b[38;5;129;01mnot\u001b[39;00m \u001b[38;5;28mself\u001b[39m\u001b[38;5;241m.\u001b[39m_has_reset:\n\u001b[0;32m     55\u001b[0m     \u001b[38;5;28;01mraise\u001b[39;00m ResetNeeded(\u001b[38;5;124m\"\u001b[39m\u001b[38;5;124mCannot call env.step() before calling env.reset()\u001b[39m\u001b[38;5;124m\"\u001b[39m)\n\u001b[1;32m---> 56\u001b[0m \u001b[38;5;28;01mreturn\u001b[39;00m \u001b[38;5;28;43mself\u001b[39;49m\u001b[38;5;241;43m.\u001b[39;49m\u001b[43menv\u001b[49m\u001b[38;5;241;43m.\u001b[39;49m\u001b[43mstep\u001b[49m\u001b[43m(\u001b[49m\u001b[43maction\u001b[49m\u001b[43m)\u001b[49m\n",
      "File \u001b[1;32mc:\\Users\\User\\anaconda3\\envs\\robot_sim\\lib\\site-packages\\gymnasium\\wrappers\\env_checker.py:51\u001b[0m, in \u001b[0;36mPassiveEnvChecker.step\u001b[1;34m(self, action)\u001b[0m\n\u001b[0;32m     49\u001b[0m     \u001b[38;5;28;01mreturn\u001b[39;00m env_step_passive_checker(\u001b[38;5;28mself\u001b[39m\u001b[38;5;241m.\u001b[39menv, action)\n\u001b[0;32m     50\u001b[0m \u001b[38;5;28;01melse\u001b[39;00m:\n\u001b[1;32m---> 51\u001b[0m     \u001b[38;5;28;01mreturn\u001b[39;00m \u001b[38;5;28;43mself\u001b[39;49m\u001b[38;5;241;43m.\u001b[39;49m\u001b[43menv\u001b[49m\u001b[38;5;241;43m.\u001b[39;49m\u001b[43mstep\u001b[49m\u001b[43m(\u001b[49m\u001b[43maction\u001b[49m\u001b[43m)\u001b[49m\n",
      "File \u001b[1;32mc:\\Users\\User\\Documents\\DATA\\Fitra Nurmayadi\\TWSBR\\twsbr\\LunarLander3DEnv\\envs\\LunarLander3DEnv.py:136\u001b[0m, in \u001b[0;36mLunarLander3DEnv.step\u001b[1;34m(self, action)\u001b[0m\n\u001b[0;32m    133\u001b[0m fuel_consumption \u001b[38;5;241m=\u001b[39m \u001b[38;5;241m0.25\u001b[39m \u001b[38;5;241m*\u001b[39m np\u001b[38;5;241m.\u001b[39msum(np\u001b[38;5;241m.\u001b[39mabs(action))\n\u001b[0;32m    134\u001b[0m \u001b[38;5;28mself\u001b[39m\u001b[38;5;241m.\u001b[39mfuel \u001b[38;5;241m-\u001b[39m\u001b[38;5;241m=\u001b[39m fuel_consumption\n\u001b[1;32m--> 136\u001b[0m obs \u001b[38;5;241m=\u001b[39m \u001b[38;5;28;43mself\u001b[39;49m\u001b[38;5;241;43m.\u001b[39;49m\u001b[43m_get_obs\u001b[49m\u001b[43m(\u001b[49m\u001b[43m)\u001b[49m\n\u001b[0;32m    137\u001b[0m reward, terminated, truncated \u001b[38;5;241m=\u001b[39m \u001b[38;5;28mself\u001b[39m\u001b[38;5;241m.\u001b[39m_get_reward(obs, action)\n\u001b[0;32m    138\u001b[0m info \u001b[38;5;241m=\u001b[39m \u001b[38;5;28mself\u001b[39m\u001b[38;5;241m.\u001b[39m_get_info()\n",
      "File \u001b[1;32mc:\\Users\\User\\Documents\\DATA\\Fitra Nurmayadi\\TWSBR\\twsbr\\LunarLander3DEnv\\envs\\LunarLander3DEnv.py:187\u001b[0m, in \u001b[0;36mLunarLander3DEnv._get_obs\u001b[1;34m(self)\u001b[0m\n\u001b[0;32m    186\u001b[0m \u001b[38;5;28;01mdef\u001b[39;00m \u001b[38;5;21m_get_obs\u001b[39m(\u001b[38;5;28mself\u001b[39m):\n\u001b[1;32m--> 187\u001b[0m     pos, orient \u001b[38;5;241m=\u001b[39m \u001b[38;5;28;43mself\u001b[39;49m\u001b[38;5;241;43m.\u001b[39;49m\u001b[43m_bullet_client\u001b[49m\u001b[38;5;241;43m.\u001b[39;49m\u001b[43mgetBasePositionAndOrientation\u001b[49m\u001b[43m(\u001b[49m\u001b[38;5;28;43mself\u001b[39;49m\u001b[38;5;241;43m.\u001b[39;49m\u001b[43mlander_id\u001b[49m\u001b[43m)\u001b[49m\n\u001b[0;32m    188\u001b[0m     lin_vel, ang_vel \u001b[38;5;241m=\u001b[39m \u001b[38;5;28mself\u001b[39m\u001b[38;5;241m.\u001b[39m_bullet_client\u001b[38;5;241m.\u001b[39mgetBaseVelocity(\u001b[38;5;28mself\u001b[39m\u001b[38;5;241m.\u001b[39mlander_id)\n\u001b[0;32m    189\u001b[0m     euler_orient \u001b[38;5;241m=\u001b[39m pybullet\u001b[38;5;241m.\u001b[39mgetEulerFromQuaternion(orient)\n",
      "\u001b[1;31merror\u001b[0m: Not connected to physics server."
     ]
    }
   ],
   "source": [
    "import gymnasium as gym\n",
    "from LunarLander3DEnv.envs import LunarLander3DEnv  # Import environment\n",
    "import time\n",
    "import numpy as np\n",
    "from stable_baselines3.common.env_checker import check_env\n",
    "\n",
    "env = gym.make(\"LunarLander3DEnv-v0\",\n",
    "                render_mode=\"human\",\n",
    "                )\n",
    "obs, info = env.reset()\n",
    "terminated = False\n",
    "truncated = False\n",
    "acc_reward = 0  # Inisialisasi akumulasi reward\n",
    "step = 0\n",
    "while not truncated:\n",
    "    action = [0.045,0.045,0.045,0.045]  # Aksi: keempat thruster aktif\n",
    "    obs, reward, terminated, truncated, info = env.step(action)\n",
    "    acc_reward += reward\n",
    "    #print(f\"position: {obs[2] * 100}\")\n",
    "    #print(f\"vertical velocity: {obs[8] * 100}\")\n",
    "    #time.sleep(1/240)  # Delay agar gerakan terlihat\n",
    "    #print(f\"contacts: {obs[13:17]}\")\n",
    "    if terminated or truncated:\n",
    "        print(f\"position: {obs[2]}\")\n",
    "        \n",
    "        #nilai contacts\n",
    "        print(f\"contacts: {obs[13:17]}\")\n",
    "\n",
    "        print(f\"terminated: {terminated}, truncated: {truncated}\")\n",
    "        \n",
    "\n",
    "\n",
    "        print(f\"info{info}\")\n",
    "        print(f\"Total reward: {acc_reward}\")\n",
    "        print(f\"Step: {step}\")\n",
    "        print(\"Resetting environment...\")\n",
    "        acc_reward = 0\n",
    "        step=0\n",
    "        obs, info = env.reset()\n",
    "        \n",
    "    step += 1\n",
    "    #print(f\"{obs[2]}:{obs[8]}\", end=\"\\r\")\n",
    "    env.render()\n",
    "\n",
    "print(f\"Total reward: {acc_reward}\")\n",
    "env.close()"
   ]
  }
 ],
 "metadata": {
  "kernelspec": {
   "display_name": "robot_sim",
   "language": "python",
   "name": "python3"
  },
  "language_info": {
   "codemirror_mode": {
    "name": "ipython",
    "version": 3
   },
   "file_extension": ".py",
   "mimetype": "text/x-python",
   "name": "python",
   "nbconvert_exporter": "python",
   "pygments_lexer": "ipython3",
   "version": "3.10.15"
  }
 },
 "nbformat": 4,
 "nbformat_minor": 2
}
