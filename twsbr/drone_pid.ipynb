{
 "cells": [
  {
   "cell_type": "code",
   "execution_count": 1,
   "metadata": {},
   "outputs": [
    {
     "name": "stdout",
     "output_type": "stream",
     "text": [
      "Loading URDF from: c:\\Users\\User\\Documents\\DATA\\Fitra Nurmayadi\\TWSBR\\twsbr\\DroneEnv\\envs\\urdf\\drone.urdf\n",
      "Loading URDF from: c:\\Users\\User\\Documents\\DATA\\Fitra Nurmayadi\\TWSBR\\twsbr\\DroneEnv\\envs\\urdf\\drone.urdf\n"
     ]
    },
    {
     "name": "stderr",
     "output_type": "stream",
     "text": [
      "c:\\Users\\User\\anaconda3\\envs\\robot_sim\\lib\\site-packages\\stable_baselines3\\common\\env_checker.py:462: UserWarning: We recommend you to use a symmetric and normalized Box action space (range=[-1, 1]) cf. https://stable-baselines3.readthedocs.io/en/master/guide/rl_tips.html\n",
      "  warnings.warn(\n"
     ]
    },
    {
     "name": "stdout",
     "output_type": "stream",
     "text": [
      "Loading URDF from: c:\\Users\\User\\Documents\\DATA\\Fitra Nurmayadi\\TWSBR\\twsbr\\DroneEnv\\envs\\urdf\\drone.urdf\n",
      "Loading URDF from: c:\\Users\\User\\Documents\\DATA\\Fitra Nurmayadi\\TWSBR\\twsbr\\DroneEnv\\envs\\urdf\\drone.urdf\n"
     ]
    }
   ],
   "source": [
    "import gymnasium as gym\n",
    "from DroneEnv.envs import DroneEnv  # Import environment\n",
    "import time\n",
    "from stable_baselines3.common.env_checker import check_env\n",
    "\n",
    "env = gym.make(\"DroneEnv-v0\",\n",
    "                render_mode=\"human\",\n",
    "                )\n",
    "check_env(env)\n",
    "env.close()"
   ]
  },
  {
   "cell_type": "code",
   "execution_count": null,
   "metadata": {},
   "outputs": [],
   "source": [
    "import gymnasium as gym\n",
    "from DroneEnv.envs import DroneEnv  # Import environment\n",
    "import time\n",
    "from stable_baselines3.common.env_checker import check_env\n",
    "    \n",
    "env = gym.make(\"DroneEnv-v0\",\n",
    "                render_mode=\"human\",\n",
    "                )"
   ]
  },
  {
   "cell_type": "code",
   "execution_count": null,
   "metadata": {},
   "outputs": [],
   "source": []
  },
  {
   "cell_type": "code",
   "execution_count": null,
   "metadata": {},
   "outputs": [],
   "source": []
  }
 ],
 "metadata": {
  "kernelspec": {
   "display_name": "robot_sim",
   "language": "python",
   "name": "python3"
  },
  "language_info": {
   "codemirror_mode": {
    "name": "ipython",
    "version": 3
   },
   "file_extension": ".py",
   "mimetype": "text/x-python",
   "name": "python",
   "nbconvert_exporter": "python",
   "pygments_lexer": "ipython3",
   "version": "3.10.15"
  }
 },
 "nbformat": 4,
 "nbformat_minor": 2
}
